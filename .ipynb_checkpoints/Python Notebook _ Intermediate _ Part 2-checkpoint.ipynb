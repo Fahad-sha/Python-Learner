{
 "cells": [
  {
   "cell_type": "markdown",
   "metadata": {
    "ExecuteTime": {
     "end_time": "2018-11-08T10:01:01.715711Z",
     "start_time": "2018-11-08T10:01:01.709071Z"
    }
   },
   "source": [
    "<h1 style=\"font-size: 20pt\">Python Notebook | Intermediate | Part 2</h1><br/>\n",
    "\n",
    "<b> Author: </b> Tamoghna Saha<br/>\n",
    "<b> Created: </b> November 2018<br/>\n",
    "\n",
    "![Python](Photos/python-intermediate.png)"
   ]
  },
  {
   "cell_type": "markdown",
   "metadata": {},
   "source": [
    "# Table of content\n",
    "* [List Slices](#slice)\n",
    "* [List and Dictionary Comprehension](#compre)\n",
    "* [Lambda](#lambda)\n",
    "* [Map, Filter & Reduce](#map)\n",
    "* [Decorator](#dec)\n",
    "* [Iterable, Iterator and Generator](#iter-gen) (optional but recommended to read)"
   ]
  },
  {
   "cell_type": "markdown",
   "metadata": {},
   "source": [
    "# List Slices <a name=\"slice\"></a>\n",
    "\n",
    "__List slices__ provides an advanced way of retrieving values from a list. Basic list slicing involves indexing a list with __two colon-separated integers__. These three arguments are _lower limit, upper limit and step_. This returns a new list containing all the values in the old list between the indices specified. By default, lower limit is at index 0, upper limit is at the last value and step is +1. \n",
    "\n",
    "You can also take a step backwards. When __negative values__ are used for the first and second values in a slice, they __count from the end of list__.\n",
    "\n",
    "The indexing of the iterable item starts from 0 if we take it from left and -1 if we take it from the right.\n",
    "\n",
    "__NOTE__: Slicing can also be done on __tuple__."
   ]
  },
  {
   "cell_type": "code",
   "execution_count": 1,
   "metadata": {
    "ExecuteTime": {
     "end_time": "2019-01-31T07:49:07.915313Z",
     "start_time": "2019-01-31T07:49:07.903798Z"
    }
   },
   "outputs": [
    {
     "name": "stdout",
     "output_type": "stream",
     "text": [
      "[0, 1, 4, 9, 16, 25, 36, 49, 64, 81]\n",
      "[0, 4, 16, 36, 64]\n",
      "[4, 16, 36]\n",
      "[36, 49, 64, 81]\n",
      "[16, 25, 36, 49, 64, 81]\n",
      "[1, 4, 9, 16, 25, 36, 49]\n",
      "[25, 36, 49]\n",
      "[49, 25, 9]\n",
      "[]\n",
      "[81, 64, 49, 36, 25, 16, 9, 4, 1, 0]\n"
     ]
    }
   ],
   "source": [
    "squares = [0, 1, 4, 9, 16, 25, 36, 49, 64, 81]\n",
    "\n",
    "print(squares[:])\n",
    "print(squares[::2])\n",
    "print(squares[2:8:2])\n",
    "print(squares[6:])\n",
    "print(squares[4:14])\n",
    "print(squares[1:-2])\n",
    "print(squares[-5:-2])\n",
    "print(squares[7:1:-2])\n",
    "print(squares[7:4])\n",
    "print(squares[::-1])"
   ]
  },
  {
   "cell_type": "markdown",
   "metadata": {},
   "source": [
    "# List and Dictionary Comprehension <a name=\"compre\"></a>\n",
    "\n",
    "## List Comprehension\n",
    "\n",
    "List comprehension is a useful way of quickly creating lists using simplified version of _for_ loop statement. A list comprehension __can also contain an if statement__ to enforce a condition on values in the list.\n",
    "\n",
    "The format of list comprehension is as follows:\n",
    "\n",
    "```\n",
    "lst_comprhnsn = [\"expression\" \"for statement\" \"if statement\"(optional)]\n",
    "```\n",
    "\n",
    "__NOTE__: Trying to create a list, by any means, in a very extensive range will result in a __MemoryError__.\n",
    "\n",
    "```\n",
    "var = [2*i for i in range(10**100)]\n",
    "```\n",
    "\n",
    "### DON'T EVEN TRY IT!"
   ]
  },
  {
   "cell_type": "code",
   "execution_count": 2,
   "metadata": {
    "ExecuteTime": {
     "end_time": "2019-02-05T10:43:32.207676Z",
     "start_time": "2019-02-05T10:43:32.201353Z"
    }
   },
   "outputs": [
    {
     "name": "stdout",
     "output_type": "stream",
     "text": [
      "[36, 64]\n",
      "(36, 64)\n"
     ]
    }
   ],
   "source": [
    "evens=[i**2 for i in range(10) if i % 2 == 0 and i > 5]\n",
    "print(evens)\n",
    "print(tuple(evens))"
   ]
  },
  {
   "cell_type": "code",
   "execution_count": 3,
   "metadata": {
    "ExecuteTime": {
     "end_time": "2019-01-31T07:56:03.984823Z",
     "start_time": "2019-01-31T07:56:03.977904Z"
    }
   },
   "outputs": [
    {
     "name": "stdout",
     "output_type": "stream",
     "text": [
      "[1, 3, 5, 7]\n",
      "[2, 4, 6, 8]\n"
     ]
    }
   ],
   "source": [
    "num = [1,2,3,4,5,6,7,8]\n",
    "list_of_index = [i for i in num if num.index(i)%2 == 0]\n",
    "print(list_of_index)\n",
    "even_num = [num[i] for i in list_of_index]\n",
    "print(even_num)"
   ]
  },
  {
   "cell_type": "markdown",
   "metadata": {},
   "source": [
    "## Dictionary Comprehension\n",
    "\n",
    "The idea of comprehension is not just unique to lists in Python. Dictionaries can also do comprehension. With this, one can easily create dictionaries.\n",
    "\n",
    "Instead of using [], we use {}. The format of list comprehension is as follows:\n",
    "\n",
    "```\n",
    "lst_comprhnsn = {\"key:value\" \"for statement\" \"if statement\"(optional)}\n",
    "```"
   ]
  },
  {
   "cell_type": "code",
   "execution_count": 4,
   "metadata": {
    "ExecuteTime": {
     "end_time": "2019-02-17T19:40:09.652562Z",
     "start_time": "2019-02-17T19:40:09.644639Z"
    },
    "scrolled": true
   },
   "outputs": [
    {
     "name": "stdout",
     "output_type": "stream",
     "text": [
      "{'a': 1, 'b': 2, 'c': 3}\n",
      "{'0': 0, '3': 9, '6': 18, '9': 27}\n",
      "\n",
      "Before removing!\n",
      "{'kiwi': 'Kiwi', 'apple': 'Apple', 'mango': 'Mango', 'banana': 'Banana', 'cherry': 'Cherry'}\n",
      "=========================\n",
      "After removing!\n",
      "{'kiwi': 'Kiwi', 'banana': 'Banana', 'mango': 'Mango', 'apple': 'Apple'}\n"
     ]
    }
   ],
   "source": [
    "# dictionary from two different list\n",
    "keys = ['a', 'b', 'c']\n",
    "values = [1, 2, 3]\n",
    "\n",
    "my_dict_1 = {k:v for (k,v) in zip(keys, values)}\n",
    "print(my_dict_1)\n",
    "\n",
    "# dictionary from same list\n",
    "my_dict_2 = {str(x): x*3 for x in range(10) if x%3==0}\n",
    "print(my_dict_2)\n",
    "\n",
    "# delete Selected Keys from Dictionary using Dictionary Comprehension\n",
    "fruits = ['kiwi', 'apple', 'mango', 'banana', 'cherry']\n",
    "my_dict_3 = {f:f.capitalize() for f in fruits}\n",
    "print(\"\\nBefore removing!\")\n",
    "print(my_dict_3)\n",
    "print(\"=\"*25)\n",
    "remove_this = {'cherry'}\n",
    "my_dict_3 = {key:my_dict_3[key] for key in my_dict_3.keys() - remove_this}\n",
    "print(\"After removing!\")\n",
    "print(my_dict_3)"
   ]
  },
  {
   "cell_type": "markdown",
   "metadata": {},
   "source": [
    "# Lambda <a name=\"lambda\"></a>\n",
    "\n",
    "In Python, __anonymous function__ means a function __without a name__, whereas we use _def_ keyword to create normal functions. The __lambda__ function is used for creating _small, one-time and anonymous_ function objects in Python. The lambda operator can have __any number of arguments__, but it can have __only one expression__. The lambda functions can be assigned to variables, and used like normal functions.\n",
    "\n",
    "Use lambda functions when an anonymous function is required for a short period of time."
   ]
  },
  {
   "cell_type": "code",
   "execution_count": 5,
   "metadata": {
    "ExecuteTime": {
     "end_time": "2019-02-05T10:46:25.966501Z",
     "start_time": "2019-02-05T10:46:25.959504Z"
    }
   },
   "outputs": [
    {
     "name": "stdout",
     "output_type": "stream",
     "text": [
      "The result for named function: 30\n",
      "The result for anonymous function: 30\n"
     ]
    }
   ],
   "source": [
    "#named function\n",
    "def polynomial(x,y):\n",
    "    '''\n",
    "    Function to perform a polynomial calculation having a single variable x\n",
    "    '''\n",
    "    return x**2 + 5*y + 4\n",
    "\n",
    "print(\"The result for named function: {}\".format(polynomial(-4,2)))\n",
    "\n",
    "#========== OR ============\n",
    "\n",
    "#lambda\n",
    "poly = lambda x,y: x**2 + 5*y + 4\n",
    "print(\"The result for anonymous function: {}\".format(poly(-4,2)))"
   ]
  },
  {
   "cell_type": "markdown",
   "metadata": {},
   "source": [
    "# Map, Filter & Reduce <a name=\"map\"></a>\n",
    "\n",
    "The built-in functions __map__, __filter__ and __reduce__ are very useful higher-order functions that operate on iterable. \n",
    "\n",
    "The function __map__ takes a function and an iterable as _arguments_, and returns a _new iterable_ with the function applied to each argument.\n",
    "\n",
    "The function __filter__ filters an iterable by removing items that don't match a __predicate (a function that returns ONLY Boolean True)__.\n",
    "\n",
    "The function __reduce__ applies a rolling computation to sequential pairs of values in a iterable i.e., wanted to compute the product of a list items, sum of tuple items.\n",
    "\n",
    "__NOTE__: Both in map and filter, the result has to be explicitly converted to a list or tuple if you want to print it. Python 2 returns a list by default, but this was changed in Python 3 which returns map or filter object, hence the need for the list or tuple function."
   ]
  },
  {
   "cell_type": "code",
   "execution_count": 6,
   "metadata": {
    "ExecuteTime": {
     "end_time": "2019-02-05T10:48:31.066666Z",
     "start_time": "2019-02-05T10:48:31.060105Z"
    }
   },
   "outputs": [
    {
     "name": "stdout",
     "output_type": "stream",
     "text": [
      "[16, 27, 38, 49, 60]\n",
      "(22, 44)\n",
      "19326120\n"
     ]
    }
   ],
   "source": [
    "def add_five(x):\n",
    "    return x + 5\n",
    "\n",
    "num_var = [11, 22, 33, 44, 55]\n",
    "map_result = list(map(lambda x: x+5, num_var)) # map\n",
    "print(map_result)\n",
    "\n",
    "filter_result = tuple(filter(lambda x: x%2==0, num_var)) # filter\n",
    "print(filter_result)\n",
    "\n",
    "from functools import reduce\n",
    "reduce_result = reduce((lambda x, y: x*y), num_var) # reduce\n",
    "print(reduce_result)"
   ]
  },
  {
   "cell_type": "markdown",
   "metadata": {},
   "source": [
    "__Small task__\n",
    "\n",
    "* Do the same thing shown above in filter code using list comprehension.\n",
    "* Solve this:\n",
    "\n",
    "```\n",
    "res = tuple(map(lambda x: x%2==0,num_var))\n",
    "```"
   ]
  },
  {
   "cell_type": "code",
   "execution_count": 7,
   "metadata": {
    "ExecuteTime": {
     "end_time": "2019-02-05T10:52:31.159358Z",
     "start_time": "2019-02-05T10:52:31.150919Z"
    },
    "hide_input": false
   },
   "outputs": [
    {
     "name": "stdout",
     "output_type": "stream",
     "text": [
      "(22, 44)\n",
      "(False, True, False, True, False)\n"
     ]
    }
   ],
   "source": [
    "#Answer\n",
    "num_var = [11, 22, 33, 44, 55]\n",
    "filter_result = [i for i in num_var if i%2==0]\n",
    "print(tuple(filter_result))\n",
    "\n",
    "res = tuple(map(lambda x: x%2==0,num_var))\n",
    "print(res)"
   ]
  },
  {
   "cell_type": "markdown",
   "metadata": {},
   "source": [
    "__Exercise__: Take a n digit (n > 4) number as user input and generate a single digit output by successively adding the digits of the integer."
   ]
  },
  {
   "cell_type": "code",
   "execution_count": 8,
   "metadata": {
    "ExecuteTime": {
     "end_time": "2018-12-20T07:26:00.528478Z",
     "start_time": "2018-12-20T07:25:55.338234Z"
    },
    "hide_input": false
   },
   "outputs": [
    {
     "name": "stdout",
     "output_type": "stream",
     "text": [
      "Enter a number (More than 4 digit number): 87215421\n",
      "3\n"
     ]
    }
   ],
   "source": [
    "num = int(input(\"Enter a number (More than 4 digit number): \"))\n",
    "while len(str(num))!= 1:\n",
    "    num_lst = [int(i) for i in str(num)]\n",
    "    num = reduce((lambda x, y: x+y), num_lst)\n",
    "#     print(num)\n",
    "    \n",
    "print(num)"
   ]
  },
  {
   "cell_type": "code",
   "execution_count": 9,
   "metadata": {
    "ExecuteTime": {
     "end_time": "2019-02-01T07:10:34.238982Z",
     "start_time": "2019-02-01T07:10:34.181683Z"
    }
   },
   "outputs": [
    {
     "name": "stdout",
     "output_type": "stream",
     "text": [
      "(0, 0, 3, 4, 5)\n",
      "[3, 4, 5]\n"
     ]
    }
   ],
   "source": [
    "# what do you think is the output?\n",
    "mylist = [1,2,3,4,5]\n",
    "\n",
    "def my_func(x):\n",
    "    if x>2:\n",
    "        return x\n",
    "    else:\n",
    "        return 0\n",
    "\n",
    "print(tuple(map(lambda x: x if x>2 else 0, mylist)))\n",
    "print(list(filter(lambda x: x if x>2 else 0, mylist)))"
   ]
  },
  {
   "cell_type": "markdown",
   "metadata": {},
   "source": [
    "**Solve this**\n",
    "\n",
    "If input = 'aaaccbdddd', then generate the output 'a3b1c2d4'"
   ]
  },
  {
   "cell_type": "code",
   "execution_count": 10,
   "metadata": {
    "ExecuteTime": {
     "end_time": "2018-12-24T06:45:08.619441Z",
     "start_time": "2018-12-24T06:45:08.603289Z"
    },
    "hide_input": false
   },
   "outputs": [
    {
     "data": {
      "text/plain": [
       "'a3b1c2d4'"
      ]
     },
     "execution_count": 10,
     "metadata": {},
     "output_type": "execute_result"
    }
   ],
   "source": [
    "some_inp = 'aaaccbdddd'\n",
    "inp = sorted(list(set(some_inp)))\n",
    "output = \"\".join([\"{}{}\".format(letter, some_inp.count(letter)) for letter in inp])\n",
    "output"
   ]
  },
  {
   "cell_type": "markdown",
   "metadata": {},
   "source": [
    "# Decorator <a name=\"dec\"></a>\n",
    "\n",
    "__Decorator__ are functions which modify the functionality of another function. Let's go one step at a time to understand decorator. In the beginner's article, we have mentioned that Python's function is a __first class object__ which can be\n",
    "* dynamically created, destroyed\n",
    "* stored in a variable\n",
    "* passed to a function as a parameter\n",
    "* returned as a value from a function\n",
    "\n",
    "We have already seen the first point to be valid in the beginner's article. Let's validate each of these remaining 3 point."
   ]
  },
  {
   "cell_type": "code",
   "execution_count": 11,
   "metadata": {
    "ExecuteTime": {
     "end_time": "2018-12-26T04:05:24.021831Z",
     "start_time": "2018-12-26T04:05:24.012696Z"
    }
   },
   "outputs": [
    {
     "name": "stdout",
     "output_type": "stream",
     "text": [
      "Let's go, PYKACHU\n",
      "====================\n",
      "I choose you, 'char'mander\n",
      "====================\n",
      "In the battle, pykachu won against 'char'mander\n"
     ]
    }
   ],
   "source": [
    "## functions can be assigned to a variable\n",
    "\n",
    "def my_pymon(text): \n",
    "    return \"Let's go, {}\".format(text.upper())\n",
    "\n",
    "i_choose_you = my_pymon\n",
    "print(i_choose_you('pykachu'))\n",
    "\n",
    "print(\"=\"*20)\n",
    "\n",
    "## functions can be passed as argument to another function\n",
    "\n",
    "def your_pymon(text):\n",
    "    return f\"{text}\"\n",
    "\n",
    "def trainer_select(func):\n",
    "    print(func(\"I choose you, 'char'mander\"))\n",
    "\n",
    "trainer_select(your_pymon)\n",
    "\n",
    "print(\"=\"*20)\n",
    "\n",
    "## function returned as a value from another function\n",
    "\n",
    "def battle_began_with(mons):\n",
    "    def who_won(someone):\n",
    "        return f\"In the battle, {someone} won against {mons}\"\n",
    "    return who_won\n",
    "\n",
    "battle = battle_began_with(\"'char'mander\")(\"pykachu\")\n",
    "print(battle)"
   ]
  },
  {
   "cell_type": "code",
   "execution_count": 12,
   "metadata": {
    "ExecuteTime": {
     "end_time": "2018-12-24T07:05:28.043568Z",
     "start_time": "2018-12-24T07:05:28.034704Z"
    }
   },
   "outputs": [
    {
     "name": "stdout",
     "output_type": "stream",
     "text": [
      "Vision is not only a representation of Mind Stone!\n",
      "Tony:  Yeah! I'm there.\n",
      "Banner:  I know I'm there too, but what happened with Hulk?\n",
      "Mind Stone:  <function vision.<locals>.mindstone at 0x7f65a46c5510>\n",
      "Vision : Enough! I died, came back to life to be killed again! -_-\n"
     ]
    }
   ],
   "source": [
    "## let's explore more with this \"Marvel\"lous example\n",
    "\n",
    "def vision(var = \"Vision\"):\n",
    "    print(var+\" is not only a representation of Mind Stone!\")\n",
    "    def tony():\n",
    "        return \"Yeah! I'm there.\"\n",
    "    def banner():\n",
    "        return \"I know I'm there too, but what happened with Hulk?\"\n",
    "    def mindstone():\n",
    "        return \"What are we even discussing?\"\n",
    "    \n",
    "    print(\"Tony: \",tony())\n",
    "    print(\"Banner: \",banner())\n",
    "    print(\"Mind Stone: \",mindstone)\n",
    "    print(var,\": Enough! I died, came back to life to be killed again! -_-\")\n",
    "    \n",
    "vision()"
   ]
  },
  {
   "cell_type": "markdown",
   "metadata": {},
   "source": [
    "__When you put the pair of parentheses after the function name in main of code, only then the function gets executed. If you don’t put parentheses after it, then it can be passed around and can be assigned to other variables without executing it.__"
   ]
  },
  {
   "cell_type": "code",
   "execution_count": 13,
   "metadata": {
    "ExecuteTime": {
     "end_time": "2018-12-26T04:33:30.444335Z",
     "start_time": "2018-12-26T04:33:30.439391Z"
    }
   },
   "outputs": [
    {
     "name": "stdout",
     "output_type": "stream",
     "text": [
      "I am the function which needs some decoration!\n",
      "None\n",
      "==================================================\n",
      "I am doing some boring work before executing a_func()\n",
      "I am the function which needs some decoration!\n",
      "I am doing some boring work after executing a_func()\n",
      "None\n"
     ]
    }
   ],
   "source": [
    "def my_decor(a_func):\n",
    "\n",
    "    def wrapper_func():\n",
    "        print(\"I am doing some boring work before executing a_func()\")\n",
    "        a_func()\n",
    "        print(\"I am doing some boring work after executing a_func()\")\n",
    "\n",
    "    return wrapper_func\n",
    "\n",
    "def a_function_requiring_decor():\n",
    "    print(\"I am the function which needs some decoration!\")\n",
    "    \n",
    "print(a_function_requiring_decor())\n",
    "\n",
    "print(\"=\"*50)\n",
    "\n",
    "a_function_requiring_decor = my_decor(a_function_requiring_decor) #the so-called decorator is happening here\n",
    "print(a_function_requiring_decor())"
   ]
  },
  {
   "cell_type": "markdown",
   "metadata": {},
   "source": [
    "The variable __a_function_requiring_decor__ is pointing to the __wrapper_func__ inner function. We are __returning wrapper_func as a function__ when we call __my_decor(a_function_requiring_decor)__. So, __decorator wraps a function, modifying its behavior__.\n",
    "\n",
    "Another way to write these decorators is using __\"pie\" syntax, using @ symbol__."
   ]
  },
  {
   "cell_type": "code",
   "execution_count": 14,
   "metadata": {
    "ExecuteTime": {
     "end_time": "2018-12-26T04:07:29.752370Z",
     "start_time": "2018-12-26T04:07:29.746977Z"
    }
   },
   "outputs": [
    {
     "name": "stdout",
     "output_type": "stream",
     "text": [
      "Take the marker and write something on the board.\n",
      "SOMETHING!\n",
      "Well done!\n"
     ]
    }
   ],
   "source": [
    "def my_decorator(func):\n",
    "    def wrapper():\n",
    "        print(\"Take the marker and write something on the board.\")\n",
    "        func()\n",
    "        print(\"Well done!\")\n",
    "    return wrapper\n",
    "\n",
    "@my_decorator\n",
    "def tricky():\n",
    "    print(\"SOMETHING!\")\n",
    "    \n",
    "tricky()"
   ]
  },
  {
   "cell_type": "markdown",
   "metadata": {},
   "source": [
    "# Class <a name=\"class\"></a>\n",
    "\n",
    "Python is an _object-oriented programming_ (OOP) language and objects are created using __class__ which is actually the focal point of OOP. The class describes an object's blueprint, description or metadata. Multiple object can be instantiated using the _same class_.\n",
    "\n",
    "In layman's term, class is a digital representation of the real world entity which contains __properties__ and __behaviors__. As an analogy, the constructors or initializers are the properties and methods are the behaviors.\n",
    "\n",
    "Classes are created using the keyword __class__ and an indented block, which contains class _methods_.\n",
    "\n",
    "Let's take a look at an example."
   ]
  },
  {
   "cell_type": "code",
   "execution_count": 15,
   "metadata": {
    "ExecuteTime": {
     "end_time": "2019-02-05T10:57:30.487473Z",
     "start_time": "2019-02-05T10:57:30.480738Z"
    }
   },
   "outputs": [
    {
     "name": "stdout",
     "output_type": "stream",
     "text": [
      "Arcanine\n",
      "Growl!\n",
      "legs: 4\n"
     ]
    }
   ],
   "source": [
    "class Pet:\n",
    "    def __init__(self, genre, name, owner):\n",
    "        self.genre = genre \n",
    "        self.name = name\n",
    "        self.owner = owner\n",
    "        \n",
    "    def voice(self): #another method added to the class Pet\n",
    "        print(\"Growl!\")\n",
    "        \n",
    "    def body(self, leg_count):\n",
    "        print(\"legs: {}\".format(leg_count))\n",
    "        \n",
    "pokemon = Pet(\"dog\",\"Arcanine\",\"Tim\")\n",
    "print(pokemon.name)\n",
    "pokemon.voice()\n",
    "pokemon.body(4)"
   ]
  },
  {
   "cell_type": "markdown",
   "metadata": {},
   "source": [
    "The **__ init__** method is the most important method in a class which is called when an instance (object) of the class is created. __All methods must have self as their first parameter__, although you do not need to pass it explicitly when you call the method.\n",
    "\n",
    "Within the method definition, __self__ refers to the object itself calling the method. From the above example, we see that\n",
    "\n",
    "```\n",
    "pokemon = Pet(\"dog\",\"Arcanine\",\"Tim\")\n",
    "print(pokemon.name)\n",
    ">>> Arcanine\n",
    "```\n",
    "\n",
    "* When we create the pokemon object from the class Pet, we are passing _genre, name and owner_ as \"dog\",\"Arcanine\",\"Tim\" and the object (pokemon) will take the place of self.\n",
    "* The attributes are accessed using the __dot__ operator.\n",
    "* So __pokemon is the object__, \"_Arcanine_\" is the value of the __name__ attribute of this object. \n",
    "\n",
    "Hence, we can access the attributes in a class using this way: __object.attributes__.\n",
    "\n",
    "Classes can have other methods defined to add functionality to them. These methods are accessed using the same dot syntax as attributes.\n",
    "\n",
    "__NOTE__: All methods __must have self__ as their first parameter.\n",
    "\n",
    "Trying to access an attribute of an instance that isn't defined causes an __AttributeError__."
   ]
  },
  {
   "cell_type": "code",
   "execution_count": 16,
   "metadata": {},
   "outputs": [
    {
     "name": "stdout",
     "output_type": "stream",
     "text": [
      "johny\n",
      "Growl!\n",
      "legs: 3\n"
     ]
    }
   ],
   "source": [
    "# storing default values to the class properties\n",
    "\n",
    "class Pet:\n",
    "    def __init__(self, genre = \"dog\", name = \"johny\", owner = \"tony\"):\n",
    "        self.genre = genre\n",
    "        self.name = name\n",
    "        self.owner = owner\n",
    "        \n",
    "    def voice(self): #another method added to the class Pet\n",
    "        print(\"Growl!\")\n",
    "        \n",
    "    def body(self, leg_count = 4):\n",
    "        print(\"legs: {}\".format(leg_count))\n",
    "        \n",
    "pet_1 = Pet()\n",
    "print(pet_1.name)\n",
    "pet_1.voice()\n",
    "pet_1.body(3)"
   ]
  },
  {
   "cell_type": "markdown",
   "metadata": {},
   "source": [
    "# Iterable, Iterator and Generator <a name=\"iter-gen\"></a>\n",
    "\n",
    "## Iterable and Iterator\n",
    "\n",
    "Iteration -> Repetition of a process.\n",
    "\n",
    "__Iterable__ is a type of object which would __generate an Iterator__ when passed to in-built method __iter()__.\n",
    "\n",
    "__Iterator__ is an object which is used to iterate over an _iterable object_ using __next__() method, which returns the next item of the _iterable object_.  Any object that has a __next__() method is therefore an iterator.\n",
    "\n",
    "__NOTE__: List, Tuple, Set, Frozenset, Dictionary are in-built __iterable objects__. They are __iterable containers__ from which you can get an __iterator__.\n",
    "\n",
    "This is what happens.\n",
    "![iterable-vs-iterator](./Photos/iterable-vs-iterator.png)"
   ]
  },
  {
   "cell_type": "code",
   "execution_count": 17,
   "metadata": {
    "ExecuteTime": {
     "end_time": "2019-02-01T07:21:57.377445Z",
     "start_time": "2019-02-01T07:21:57.368279Z"
    }
   },
   "outputs": [
    {
     "name": "stdout",
     "output_type": "stream",
     "text": [
      "<class 'list_iterator'>\n",
      "apple\n",
      "banana\n",
      "cherry\n"
     ]
    }
   ],
   "source": [
    "## Let's see an example\n",
    "my_tuple = [\"apple\", \"banana\", \"cherry\"]\n",
    "iterated_tuple = iter(my_tuple)\n",
    "\n",
    "print(type(iterated_tuple))\n",
    "print(next(iterated_tuple))\n",
    "print(next(iterated_tuple))\n",
    "print(next(iterated_tuple))"
   ]
  },
  {
   "cell_type": "code",
   "execution_count": 18,
   "metadata": {
    "ExecuteTime": {
     "end_time": "2019-02-01T07:22:24.663966Z",
     "start_time": "2019-02-01T07:22:24.607905Z"
    }
   },
   "outputs": [
    {
     "name": "stdout",
     "output_type": "stream",
     "text": [
      "apple\n",
      "banana\n",
      "cherry\n"
     ]
    }
   ],
   "source": [
    "## same thing can be written using for loop\n",
    "my_tuple = (\"apple\", \"banana\", \"cherry\")\n",
    "\n",
    "for i in my_tuple:\n",
    "    print(i)"
   ]
  },
  {
   "cell_type": "markdown",
   "metadata": {},
   "source": [
    "**How for loop actually works?**\n",
    "\n",
    "The for loop can iterate over any iterable. \n",
    "\n",
    "```\n",
    "for element in iterable:\n",
    "    # do something with element\n",
    "```\n",
    "\n",
    "is actually implemented as\n",
    "\n",
    "```\n",
    "# create an iterator object from that iterable\n",
    "iter_obj = iter(iterable)\n",
    "\n",
    "# infinite loop\n",
    "while True:\n",
    "    try:\n",
    "        # get the next item\n",
    "        element = next(iter_obj)\n",
    "        # do something with element\n",
    "    except StopIteration:\n",
    "        # if StopIteration is raised, break from loop\n",
    "        break\n",
    "```\n",
    "\n",
    "* The for loop creates an iterator object internally, __iter_obj__ by calling _iter()_ on the iterable.\n",
    "* Inside the __while loop__, it calls _next()_ to get the next element and executes further\n",
    "* After all the items exhaust, __StopIteration__ exception is raised which is internally caught and the loop ends.\n",
    "\n",
    "To get a better sense of the internals of an iterator, let's build an iterator producing the __Fibonacci numbers__."
   ]
  },
  {
   "cell_type": "code",
   "execution_count": 19,
   "metadata": {
    "ExecuteTime": {
     "end_time": "2019-02-05T11:00:09.216806Z",
     "start_time": "2019-02-05T11:00:09.209189Z"
    }
   },
   "outputs": [
    {
     "name": "stdout",
     "output_type": "stream",
     "text": [
      "[1, 1, 2, 3, 5, 8, 13, 21, 34, 55]\n"
     ]
    }
   ],
   "source": [
    "from itertools import islice\n",
    "\n",
    "class fib:\n",
    "     def __init__(self):\n",
    "        self.prev = 0\n",
    "        self.curr = 1\n",
    " \n",
    "     def __iter__(self):\n",
    "        return self\n",
    " \n",
    "     def __next__(self):\n",
    "        value = self.curr\n",
    "        self.curr += self.prev\n",
    "        self.prev = value\n",
    "        return value\n",
    "\n",
    "f = fib()\n",
    "print(list(islice(f, 0, 10)))"
   ]
  },
  {
   "cell_type": "markdown",
   "metadata": {},
   "source": [
    "## Generator\n",
    "\n",
    "A lot of overhead in building an iterator:\n",
    "* implement a class with iter() and next() methods\n",
    "* raise StopIteration when there was no values to be returned\n",
    "* makes the code lengthy\n",
    "\n",
    "Python Generators are a simple way of creating iterators. All the above mentioned overhead are automatically handled by generators in Python.\n",
    "\n",
    "__Generator__ is a block of code, same as defining a function, having a __yield__ statement instead of a __return__ statement. If a function contains **at least one yield** statement (it may contain other yield or return statements), it becomes a generator!\n",
    "\n",
    "The yield statement suspends function’s execution and sends a value back to caller, but retains enough capability to enable function to resume where it is left off. When resumed, the function continues execution immediately after the last yield run. This allows its code to produce a series of values over time, rather than computing them at once and sending them back like a list. __We should use yield when we want to iterate over a sequence, but don’t want to store the entire sequence in memory__.\n",
    "\n",
    "This is how the above Fibonacci number code looks like using generator."
   ]
  },
  {
   "cell_type": "code",
   "execution_count": 20,
   "metadata": {
    "ExecuteTime": {
     "end_time": "2019-02-05T11:00:13.433144Z",
     "start_time": "2019-02-05T11:00:13.426344Z"
    }
   },
   "outputs": [
    {
     "name": "stdout",
     "output_type": "stream",
     "text": [
      "[1, 1, 2, 3, 5, 8, 13, 21, 34, 55]\n"
     ]
    }
   ],
   "source": [
    "def fib():\n",
    "    prev, curr = 0, 1\n",
    "    while True:\n",
    "        yield curr\n",
    "        prev, curr = curr, prev + curr\n",
    "\n",
    "f = fib()\n",
    "print(list(islice(f, 0, 10)))"
   ]
  },
  {
   "cell_type": "markdown",
   "metadata": {},
   "source": [
    "### Let's see what happened.\n",
    "\n",
    "Take note that __fib__ is defined as a normal Python function, not as class. However, there's __no return keyword__ inside the function body. __The return value of the function will be a generator__.\n",
    "\n",
    "1. Now when __f = fib()__ is called, the generator is instantiated and returned. __No code will be executed__ at this point.To be explicit: the line prev, curr = 0, 1 is not executed yet.\n",
    "\n",
    "2. Then, this generator instance is wrapped in an islice(). This is itself also an iterator. Again, no code executed.\n",
    "\n",
    "3. Now, this iterator is wrapped in a __list()__, which will take the argument and build a list from it. To do so, it will start calling next() on the islice() instance, which in turn will start calling next() on our f instance.\n",
    "\n",
    "4. On the first call, the code __prev, curr = 0, 1__ gets executed, then the __while True__ loop is entered, and then it encounters the __yield curr__ statement. It will produce the value that's currently in the _curr_ variable and become idle again. This value is passed to the _islice()_ wrapper, which will produce the value (1 in this case) and list can add the value to the list.\n",
    "\n",
    "5. Then, list asks islice() for the next value, which will ask f for the next value, which will _unpause_ f from its previous state, resuming with the statement __prev, curr = curr, prev + curr__. \n",
    "\n",
    "6. Then it re-enters the next iteration of the __while True__ loop, and hits the __yield curr__ statement, returning the next value of curr.\n",
    "\n",
    "7. This happens until the output list is 10 elements long. When list() asks islice() for the 11th value, islice() will raise a __StopIteration__ exception, indicating that the end has been reached, and list will return the result: a list of 10 items, containing the first 10 Fibonacci numbers.\n",
    "\n",
    "There are two types of generators in Python: __generator functions__ and __generator expressions__. A generator function is any function in which the keyword __yield__ appears in its body. We just saw an example of that. Generator expression is equivalent to list comprehension.\n",
    "\n",
    "### To avoid any confusion between iterable, iterator, generator, generator expression, a {list, set, dict} comprehension, check out this diagram.\n",
    "\n",
    "![relationship](./Photos/relationships.png)"
   ]
  },
  {
   "cell_type": "markdown",
   "metadata": {},
   "source": [
    "There are some iterator functions available which can be implemented on iterable. You can check out these 2 links from GeekForGeeks. Pretty well written.\n",
    "\n",
    "* [Iterator Functions | Set 1](https://www.geeksforgeeks.org/iterator-functions-in-python-set-1/)\n",
    "* [Iterator Functions | Set 2](https://www.geeksforgeeks.org/iterator-functions-python-set-2islice-starmap-tee/)"
   ]
  }
 ],
 "metadata": {
  "kernelspec": {
   "display_name": "Python 3",
   "language": "python",
   "name": "python3"
  },
  "language_info": {
   "codemirror_mode": {
    "name": "ipython",
    "version": 3
   },
   "file_extension": ".py",
   "mimetype": "text/x-python",
   "name": "python",
   "nbconvert_exporter": "python",
   "pygments_lexer": "ipython3",
   "version": "3.6.7"
  }
 },
 "nbformat": 4,
 "nbformat_minor": 2
}
